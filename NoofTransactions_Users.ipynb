{
  "nbformat": 4,
  "nbformat_minor": 0,
  "metadata": {
    "colab": {
      "provenance": [],
      "authorship_tag": "ABX9TyMBH5X+qZEqfB1Jv3JajMV9",
      "include_colab_link": true
    },
    "kernelspec": {
      "name": "python3",
      "display_name": "Python 3"
    },
    "language_info": {
      "name": "python"
    }
  },
  "cells": [
    {
      "cell_type": "markdown",
      "metadata": {
        "id": "view-in-github",
        "colab_type": "text"
      },
      "source": [
        "<a href=\"https://colab.research.google.com/github/vamshap/PySpark-Challenges/blob/main/NoofTransactions_Users.ipynb\" target=\"_parent\"><img src=\"https://colab.research.google.com/assets/colab-badge.svg\" alt=\"Open In Colab\"/></a>"
      ]
    },
    {
      "cell_type": "code",
      "execution_count": 16,
      "metadata": {
        "colab": {
          "base_uri": "https://localhost:8080/"
        },
        "id": "o2iXxBqljNnK",
        "outputId": "5986b27d-7a8b-402c-bd7a-f21c7fc41d6a"
      },
      "outputs": [
        {
          "output_type": "stream",
          "name": "stdout",
          "text": [
            "+----------+-------+-----+-------------------+\n",
            "|product_id|user_id|spend|   transaction_date|\n",
            "+----------+-------+-----+-------------------+\n",
            "|      3673|    123| 68.9|2022-07-08 12:00:00|\n",
            "|      9623|    123|274.1|2022-07-08 12:00:00|\n",
            "|      1467|    115| 19.9|2022-07-08 12:00:00|\n",
            "|      2513|    159| 25.0|2022-07-08 12:00:00|\n",
            "|      1452|    159| 74.5|2022-07-10 12:00:00|\n",
            "+----------+-------+-----+-------------------+\n",
            "\n",
            "+-------+-------------------+------------------+\n",
            "|user_id|   transaction_date|transactions_count|\n",
            "+-------+-------------------+------------------+\n",
            "|    123|2022-07-08 12:00:00|                 2|\n",
            "|    159|2022-07-08 12:00:00|                 1|\n",
            "|    159|2022-07-10 12:00:00|                 1|\n",
            "|    115|2022-07-08 12:00:00|                 1|\n",
            "+-------+-------------------+------------------+\n",
            "\n"
          ]
        }
      ],
      "source": [
        "from pyspark.sql.types import StructType, StructField, IntegerType, FloatType, TimestampType\n",
        "from pyspark.sql import SparkSession\n",
        "from pyspark.sql.window import Window\n",
        "from pyspark.sql.functions import rank, col, count\n",
        "from datetime import datetime\n",
        "\n",
        "#write a programme to count the transactions per user in a day\n",
        "# Create Spark session\n",
        "spark = SparkSession.builder.appName(\"UserTransactions\").getOrCreate()\n",
        "\n",
        "# Define the schema\n",
        "transactions_schema = StructType([\n",
        "    StructField(\"product_id\", IntegerType(), False),\n",
        "    StructField(\"user_id\", IntegerType(), False),\n",
        "    StructField(\"spend\", FloatType(), False),\n",
        "    StructField(\"transaction_date\", TimestampType(), False)\n",
        "])\n",
        "\n",
        "# Create the data\n",
        "transactions_data = [\n",
        "    (3673, 123, 68.90, datetime.strptime('2022-07-08 12:00:00', '%Y-%m-%d %H:%M:%S')),\n",
        "    (9623, 123, 274.10, datetime.strptime('2022-07-08 12:00:00', '%Y-%m-%d %H:%M:%S')),\n",
        "    (1467, 115, 19.90, datetime.strptime('2022-07-08 12:00:00', '%Y-%m-%d %H:%M:%S')),\n",
        "    (2513, 159, 25.00, datetime.strptime('2022-07-08 12:00:00', '%Y-%m-%d %H:%M:%S')),\n",
        "    (1452, 159, 74.50, datetime.strptime('2022-07-10 12:00:00', '%Y-%m-%d %H:%M:%S'))\n",
        "]\n",
        "\n",
        "# Create DataFrame\n",
        "transactions_df = spark.createDataFrame(data=transactions_data, schema=transactions_schema)\n",
        "\n",
        "\n",
        "transactions_df.show()\n",
        "\n",
        "transactions_per_user_date_df = transactions_df.groupBy(\"user_id\", \"transaction_date\").agg(count(\"*\").alias(\"transactions_count\"))\n",
        "\n",
        "transactions_per_user_date_df.show()\n",
        "\n"
      ]
    }
  ]
}