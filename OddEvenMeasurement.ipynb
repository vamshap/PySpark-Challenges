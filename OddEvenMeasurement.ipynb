{
  "nbformat": 4,
  "nbformat_minor": 0,
  "metadata": {
    "colab": {
      "provenance": [],
      "authorship_tag": "ABX9TyMuoRADdyxJw+/MxMgICZHW",
      "include_colab_link": true
    },
    "kernelspec": {
      "name": "python3",
      "display_name": "Python 3"
    },
    "language_info": {
      "name": "python"
    }
  },
  "cells": [
    {
      "cell_type": "markdown",
      "metadata": {
        "id": "view-in-github",
        "colab_type": "text"
      },
      "source": [
        "<a href=\"https://colab.research.google.com/github/vamshap/PySpark-Challenges/blob/main/OddEvenMeasurement.ipynb\" target=\"_parent\"><img src=\"https://colab.research.google.com/assets/colab-badge.svg\" alt=\"Open In Colab\"/></a>"
      ]
    },
    {
      "cell_type": "code",
      "execution_count": 17,
      "metadata": {
        "colab": {
          "base_uri": "https://localhost:8080/"
        },
        "id": "pxVfdPIXkOaX",
        "outputId": "783b15ea-a5bd-4490-e297-df494ad4a622"
      },
      "outputs": [
        {
          "output_type": "stream",
          "name": "stdout",
          "text": [
            "+--------------+-----------------+-------------------+---------+\n",
            "|measurement_id|measurement_value|   measurement_time|oddorEven|\n",
            "+--------------+-----------------+-------------------+---------+\n",
            "|        131233|          1109.51|2022-07-10 09:00:00|      Odd|\n",
            "|        135211|          1662.74|2022-07-10 11:00:00|      Odd|\n",
            "|        523542|          1246.24|2022-07-10 13:15:00|     Even|\n",
            "|        143562|           1124.5|2022-07-11 15:00:00|     Even|\n",
            "|        346462|          1234.14|2022-07-11 16:45:00|     Even|\n",
            "+--------------+-----------------+-------------------+---------+\n",
            "\n",
            "+---------+----------+------------------+\n",
            "|oddorEven| date_time|    oddorEvenValue|\n",
            "+---------+----------+------------------+\n",
            "|      Odd|2022-07-10|           2772.25|\n",
            "|     Even|2022-07-11|2358.6400146484375|\n",
            "|     Even|2022-07-10| 1246.239990234375|\n",
            "+---------+----------+------------------+\n",
            "\n"
          ]
        }
      ],
      "source": [
        "from pyspark.sql import SparkSession\n",
        "from pyspark.sql.types import StructType, StructField, IntegerType, FloatType, TimestampType\n",
        "from pyspark.sql.functions import col,when,to_date,sum\n",
        "\n",
        "from datetime import datetime\n",
        "\n",
        "# write a pyspark code to calculate the sum of measurements for each day and for all odd and even\n",
        "# Initialize Spark Session\n",
        "spark = SparkSession.builder.appName(\"MeasurementsTable\").getOrCreate()\n",
        "\n",
        "# Define the schema for the DataFrame\n",
        "schema = StructType([\n",
        "    StructField(\"measurement_id\", IntegerType(), True),\n",
        "    StructField(\"measurement_value\", FloatType(), True),\n",
        "    StructField(\"measurement_time\", TimestampType(), True)\n",
        "])\n",
        "\n",
        "# Data to insert into the DataFrame\n",
        "data = [\n",
        "    (131233, 1109.51, datetime.strptime('07/10/2022 09:00:00', '%m/%d/%Y %H:%M:%S')),\n",
        "    (135211, 1662.74, datetime.strptime('07/10/2022 11:00:00', '%m/%d/%Y %H:%M:%S')),\n",
        "    (523542, 1246.24, datetime.strptime('07/10/2022 13:15:00', '%m/%d/%Y %H:%M:%S')),\n",
        "    (143562, 1124.50, datetime.strptime('07/11/2022 15:00:00', '%m/%d/%Y %H:%M:%S')),\n",
        "    (346462, 1234.14, datetime.strptime('07/11/2022 16:45:00', '%m/%d/%Y %H:%M:%S'))\n",
        "]\n",
        "\n",
        "# Create the DataFrame\n",
        "measurements_df = spark.createDataFrame(data, schema=schema)\n",
        "\n",
        "# Show the DataFrame\n",
        "oddEven_df = measurements_df.withColumn(\"oddorEven\",when (col(\"measurement_id\")%2 == 0,\"Even\").when(col(\"measurement_id\")%2 == 1,\"Odd\").otherwise(\"not\"))\n",
        "oddEven_df.show()\n",
        "measurementValue_df  = oddEven_df.groupBy(\"oddorEven\",to_date(col('measurement_time')).alias(\"date_time\")).agg(sum(col(\"measurement_value\")).alias(\"oddorEvenValue\"))\n",
        "\n",
        "measurementValue_df.show()\n",
        "\n",
        "\n"
      ]
    }
  ]
}