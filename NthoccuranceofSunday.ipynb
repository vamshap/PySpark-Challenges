{
  "nbformat": 4,
  "nbformat_minor": 0,
  "metadata": {
    "colab": {
      "provenance": [],
      "authorship_tag": "ABX9TyMHn7uSMbTkzPUB08tJR9z5",
      "include_colab_link": true
    },
    "kernelspec": {
      "name": "python3",
      "display_name": "Python 3"
    },
    "language_info": {
      "name": "python"
    }
  },
  "cells": [
    {
      "cell_type": "markdown",
      "metadata": {
        "id": "view-in-github",
        "colab_type": "text"
      },
      "source": [
        "<a href=\"https://colab.research.google.com/github/vamshap/PySpark-Challenges/blob/main/NthoccuranceofSunday.ipynb\" target=\"_parent\"><img src=\"https://colab.research.google.com/assets/colab-badge.svg\" alt=\"Open In Colab\"/></a>"
      ]
    },
    {
      "cell_type": "code",
      "execution_count": 12,
      "metadata": {
        "colab": {
          "base_uri": "https://localhost:8080/"
        },
        "id": "dalk2G-10Y9O",
        "outputId": "e2773efa-6ba7-4df2-e4af-4750eb100063"
      },
      "outputs": [
        {
          "output_type": "stream",
          "name": "stdout",
          "text": [
            "+----------+\n",
            "|given_date|\n",
            "+----------+\n",
            "|2025-02-01|\n",
            "+----------+\n",
            "\n"
          ]
        }
      ],
      "source": [
        "from pyspark.sql import SparkSession\n",
        "from pyspark.sql.functions import col,to_date,year,month,dayofmonth,dayofweek,date_add\n",
        "from datetime import datetime\n",
        "\n",
        "#write a code to find the nth occurance of sunday from a given date.\n",
        "spark = SparkSession.builder.appName(\"NthOccuranceofsunday\").getOrCreate()\n",
        "n= 3\n",
        "\n",
        "data = [(\"2025-01-17\",)]\n",
        "columns = [\"given_date\"]\n",
        "\n",
        "# Create a DataFrame\n",
        "df = spark.createDataFrame(data, columns)\n",
        "df = df.withColumn(\"given_date\", date_add(to_date(\"given_date\",\"yyyy-mm-dd\"),(7- dayofweek(to_date(col(\"given_date\"), \"yyyy-MM-dd\")))+((n-1)*7)))\n",
        "df.show()\n",
        "\n"
      ]
    }
  ]
}