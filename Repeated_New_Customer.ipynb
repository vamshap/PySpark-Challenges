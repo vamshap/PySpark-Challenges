{
  "nbformat": 4,
  "nbformat_minor": 0,
  "metadata": {
    "colab": {
      "provenance": [],
      "authorship_tag": "ABX9TyMemcq7c+fYyY88YB848gYs",
      "include_colab_link": true
    },
    "kernelspec": {
      "name": "python3",
      "display_name": "Python 3"
    },
    "language_info": {
      "name": "python"
    }
  },
  "cells": [
    {
      "cell_type": "markdown",
      "metadata": {
        "id": "view-in-github",
        "colab_type": "text"
      },
      "source": [
        "<a href=\"https://colab.research.google.com/github/vamshap/PySpark-Challenges/blob/main/Repeated_New_Customer.ipynb\" target=\"_parent\"><img src=\"https://colab.research.google.com/assets/colab-badge.svg\" alt=\"Open In Colab\"/></a>"
      ]
    },
    {
      "cell_type": "code",
      "execution_count": 2,
      "metadata": {
        "colab": {
          "base_uri": "https://localhost:8080/"
        },
        "id": "naKhxgbjnSTF",
        "outputId": "fcf3bd5f-00b6-4fd0-f618-866fdcb8d66a"
      },
      "outputs": [
        {
          "output_type": "stream",
          "name": "stdout",
          "text": [
            "+--------+-----------+----------+------------+\n",
            "|order_id|customer_id|order_date|order_amount|\n",
            "+--------+-----------+----------+------------+\n",
            "|       1|        100|2022-01-01|        2000|\n",
            "|       2|        200|2022-01-01|        2500|\n",
            "|       3|        300|2022-01-01|        2100|\n",
            "|       4|        100|2022-01-02|        2000|\n",
            "|       5|        400|2022-01-02|        2200|\n",
            "|       6|        500|2022-01-02|        2700|\n",
            "|       7|        100|2022-01-03|        3000|\n",
            "|       8|        400|2022-01-03|        1000|\n",
            "|       9|        600|2022-01-03|        3000|\n",
            "+--------+-----------+----------+------------+\n",
            "\n",
            "+-----------+----------+--------------------+\n",
            "|customer_id|order_date|New/RepeatedCustomer|\n",
            "+-----------+----------+--------------------+\n",
            "|        100|2022-01-01|        New Customer|\n",
            "|        200|2022-01-01|        New Customer|\n",
            "|        300|2022-01-01|        New Customer|\n",
            "|        100|2022-01-02|   Repeated Customer|\n",
            "|        400|2022-01-02|        New Customer|\n",
            "|        500|2022-01-02|        New Customer|\n",
            "|        100|2022-01-03|   Repeated Customer|\n",
            "|        400|2022-01-03|   Repeated Customer|\n",
            "|        600|2022-01-03|        New Customer|\n",
            "+-----------+----------+--------------------+\n",
            "\n"
          ]
        }
      ],
      "source": [
        "from pyspark.sql import SparkSession\n",
        "from pyspark.sql.types import StructType, StructField, IntegerType, DateType\n",
        "from pyspark.sql.functions import lag, when, col\n",
        "from pyspark.sql.window import Window\n",
        "from datetime import datetime\n",
        "\n",
        "# write a code to determine the customer is new or repeated for each day\n",
        "\n",
        "# Create Spark session\n",
        "spark = SparkSession.builder.appName(\"CustomerOrders\").getOrCreate()\n",
        "\n",
        "# Define schema for customer_orders\n",
        "schema = StructType([\n",
        "    StructField(\"order_id\", IntegerType(), True),\n",
        "    StructField(\"customer_id\", IntegerType(), True),\n",
        "    StructField(\"order_date\", DateType(), True),\n",
        "    StructField(\"order_amount\", IntegerType(), True)\n",
        "])\n",
        "\n",
        "# Create the data\n",
        "data = [\n",
        "    (1, 100, datetime.strptime('2022-01-01', '%Y-%m-%d'), 2000),\n",
        "    (2, 200, datetime.strptime('2022-01-01', '%Y-%m-%d'), 2500),\n",
        "    (3, 300, datetime.strptime('2022-01-01', '%Y-%m-%d'), 2100),\n",
        "    (4, 100, datetime.strptime('2022-01-02', '%Y-%m-%d'), 2000),\n",
        "    (5, 400, datetime.strptime('2022-01-02', '%Y-%m-%d'), 2200),\n",
        "    (6, 500, datetime.strptime('2022-01-02', '%Y-%m-%d'), 2700),\n",
        "    (7, 100, datetime.strptime('2022-01-03', '%Y-%m-%d'), 3000),\n",
        "    (8, 400, datetime.strptime('2022-01-03', '%Y-%m-%d'), 1000),\n",
        "    (9, 600, datetime.strptime('2022-01-03', '%Y-%m-%d'), 3000)\n",
        "]\n",
        "\n",
        "# Create DataFrame\n",
        "customer_orders_df = spark.createDataFrame(data, schema=schema)\n",
        "\n",
        "# Show the DataFrame\n",
        "customer_orders_df.show()\n",
        "\n",
        "window_spec = Window.partitionBy(\"customer_id\").orderBy(\"order_date\")\n",
        "\n",
        "# Calculate PreviousCustomerField using lag\n",
        "cte_flag_df = customer_orders_df.withColumn(\n",
        "    \"PreviousCustomerField\",\n",
        "    lag(\"customer_id\").over(window_spec)\n",
        ")\n",
        "\n",
        "# Determine whether the customer is new or repeated\n",
        "result_df = cte_flag_df.withColumn(\n",
        "    \"New/RepeatedCustomer\",\n",
        "    when(col(\"customer_id\") == col(\"PreviousCustomerField\"), \"Repeated Customer\")\n",
        "    .otherwise(\"New Customer\")\n",
        ").select(\"customer_id\", \"order_date\", \"New/RepeatedCustomer\").orderBy(\"order_id\")\n",
        "\n",
        "# Show result\n",
        "result_df.show()\n",
        "\n",
        "\n",
        "\n",
        "\n"
      ]
    }
  ]
}