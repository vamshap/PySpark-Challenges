{
  "nbformat": 4,
  "nbformat_minor": 0,
  "metadata": {
    "colab": {
      "provenance": [],
      "authorship_tag": "ABX9TyMMW1djCawbJJFB3yiFmQOb",
      "include_colab_link": true
    },
    "kernelspec": {
      "name": "python3",
      "display_name": "Python 3"
    },
    "language_info": {
      "name": "python"
    }
  },
  "cells": [
    {
      "cell_type": "markdown",
      "metadata": {
        "id": "view-in-github",
        "colab_type": "text"
      },
      "source": [
        "<a href=\"https://colab.research.google.com/github/vamshap/PySpark-Challenges/blob/main/Deal.ipynb\" target=\"_parent\"><img src=\"https://colab.research.google.com/assets/colab-badge.svg\" alt=\"Open In Colab\"/></a>"
      ]
    },
    {
      "cell_type": "code",
      "execution_count": 6,
      "metadata": {
        "colab": {
          "base_uri": "https://localhost:8080/"
        },
        "id": "P0kCufvU3Hbe",
        "outputId": "29b13666-2367-4f5e-d45f-338bbcf86112"
      },
      "outputs": [
        {
          "output_type": "stream",
          "name": "stdout",
          "text": [
            "+-----------+---------+\n",
            "|employee_id|deal_size|\n",
            "+-----------+---------+\n",
            "|        101|   400000|\n",
            "|        101|   300000|\n",
            "|        201|   500000|\n",
            "|        301|   500000|\n",
            "+-----------+---------+\n",
            "\n",
            "+-----------+------+\n",
            "|employee_id| Quota|\n",
            "+-----------+------+\n",
            "|        101|500000|\n",
            "|        201|400000|\n",
            "|        301|600000|\n",
            "+-----------+------+\n",
            "\n",
            "+-----------+---------------+-----------+------+\n",
            "|employee_id|total_deal_size|employee_id| Quota|\n",
            "+-----------+---------------+-----------+------+\n",
            "|        101|         700000|        101|500000|\n",
            "|        201|         500000|        201|400000|\n",
            "|        301|         500000|        301|600000|\n",
            "+-----------+---------------+-----------+------+\n",
            "\n",
            "+-----------+---------------+-----------+------+-------+\n",
            "|employee_id|total_deal_size|employee_id| Quota|YesorNo|\n",
            "+-----------+---------------+-----------+------+-------+\n",
            "|        101|         700000|        101|500000|    Yes|\n",
            "|        201|         500000|        201|400000|    Yes|\n",
            "|        301|         500000|        301|600000|     No|\n",
            "+-----------+---------------+-----------+------+-------+\n",
            "\n"
          ]
        }
      ],
      "source": [
        "from pyspark.sql import SparkSession\n",
        "from pyspark.sql.functions import col, sum as _sum, when\n",
        "from pyspark.sql.functions import *\n",
        "\n",
        "# Initialize Spark session\n",
        "spark = SparkSession.builder.appName(\"DealsQuotaAnalysis\").getOrCreate()\n",
        "\n",
        "# Create Deals DataFrame\n",
        "deals_data = [\n",
        "    (101, 400000),\n",
        "    (101, 300000),\n",
        "    (201, 500000),\n",
        "    (301, 500000)\n",
        "]\n",
        "deals_columns = [\"employee_id\", \"deal_size\"]\n",
        "deals_df = spark.createDataFrame(deals_data, deals_columns)\n",
        "\n",
        "# Create Sales_Quota DataFrame\n",
        "quota_data = [\n",
        "    (101, 500000),\n",
        "    (201, 400000),\n",
        "    (301, 600000)\n",
        "]\n",
        "quota_columns = [\"employee_id\", \"Quota\"]\n",
        "quota_df = spark.createDataFrame(quota_data, quota_columns)\n",
        "\n",
        "deals_df.show()\n",
        "quota_df.show()\n",
        "\n",
        "employee_df = deals_df.groupBy(\"employee_id\").agg(_sum(\"deal_size\").alias(\"total_deal_size\"))\n",
        "\n",
        "empQuota_df = employee_df.alias(\"employee\").join(quota_df.alias(\"quota\"),col(\"employee.employee_id\")==col(\"quota.employee_id\"),how=\"inner\")\n",
        "\n",
        "empQuota_df.show()\n",
        "\n",
        "empQuota_df.withColumn(\"YesorNo\",when(col(\"total_deal_size\")>col(\"Quota\"),\"Yes\").otherwise(\"No\")).show()\n",
        "\n"
      ]
    }
  ]
}