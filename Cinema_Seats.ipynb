{
  "nbformat": 4,
  "nbformat_minor": 0,
  "metadata": {
    "colab": {
      "provenance": [],
      "authorship_tag": "ABX9TyNSi001TLakmYj7yX8+Na33",
      "include_colab_link": true
    },
    "kernelspec": {
      "name": "python3",
      "display_name": "Python 3"
    },
    "language_info": {
      "name": "python"
    }
  },
  "cells": [
    {
      "cell_type": "markdown",
      "metadata": {
        "id": "view-in-github",
        "colab_type": "text"
      },
      "source": [
        "<a href=\"https://colab.research.google.com/github/vamshap/PySpark-Challenges/blob/main/Cinema_Seats.ipynb\" target=\"_parent\"><img src=\"https://colab.research.google.com/assets/colab-badge.svg\" alt=\"Open In Colab\"/></a>"
      ]
    },
    {
      "cell_type": "code",
      "execution_count": null,
      "metadata": {
        "colab": {
          "base_uri": "https://localhost:8080/"
        },
        "id": "C8FolrN1OnMp",
        "outputId": "c0f0a9d5-1569-48ff-e6a6-ad08b13660ce"
      },
      "outputs": [
        {
          "output_type": "stream",
          "name": "stdout",
          "text": [
            "Requirement already satisfied: pyspark in /usr/local/lib/python3.10/dist-packages (3.5.4)\n",
            "Requirement already satisfied: py4j==0.10.9.7 in /usr/local/lib/python3.10/dist-packages (from pyspark) (0.10.9.7)\n"
          ]
        }
      ],
      "source": [
        "!pip install pyspark"
      ]
    },
    {
      "cell_type": "code",
      "source": [
        "from pyspark.sql import SparkSession\n",
        "from pyspark.sql.window import Window\n",
        "from pyspark.sql.functions import row_number\n",
        "from pyspark.sql.functions import col,concat_ws,collect_set,row_number,count\n",
        "\n",
        "# Initialize Spark session\n",
        "spark = SparkSession.builder.appName(\"CinemaSeats\").getOrCreate()\n",
        "\n",
        "# Data for the DataFrame\n",
        "data = [\n",
        "    (1, 1), (2, 0), (3, 1), (4, 1), (5, 1),\n",
        "    (6, 0), (7, 1), (8, 1), (9, 0), (10, 1),\n",
        "    (11, 0), (12, 1), (13, 0), (14, 1), (15, 1),\n",
        "    (16, 0), (17, 1), (18, 1), (19, 1), (20, 1)\n",
        "]\n",
        "\n",
        "# Define schema\n",
        "columns = [\"seat_id\", \"free\"]\n",
        "\n",
        "# Create DataFrame\n",
        "cinema_df = spark.createDataFrame(data, columns)\n",
        "\n",
        "# Show the DataFrame\n",
        "#cinema_df.show()\n",
        "\n",
        "window_spec = Window.partitionBy(\"free\").orderBy(\"seat_id\");\n",
        "\n",
        "cinema_df2 = cinema_df.filter(col(\"free\") ==1).withColumn(\"grp\",col(\"seat_id\") - row_number().over(window_spec))\n",
        "\n",
        "cinema_df2.show()\n",
        "cinema_df3 = cinema_df2.groupBy(\"grp\").agg(count(\"seat_id\").alias(\"morethanone\")).filter(col(\"morethanone\")>1)\n",
        "\n",
        "cinema_df2 = cinema_df2.join(cinema_df3,on=\"grp\",how=\"inner\").select(cinema_df2[\"seat_id\"],cinema_df3[\"grp\"])\n",
        "\n",
        "#Cd = cinema_df2.groupBy(\"grp\").agg(count(\"seat_id\").alias(\"seats\"))\n",
        "cinema_df3 = cinema_df2.groupBy(\"grp\").agg(concat_ws(\",\",collect_set(\"seat_id\")).alias(\"seats\"))\n",
        "\n",
        "cinema_df3.show()\n",
        "\n",
        "\n",
        "\n",
        "\n",
        "\n",
        "\n",
        "\n"
      ],
      "metadata": {
        "colab": {
          "base_uri": "https://localhost:8080/"
        },
        "id": "xqgo0c6XPHFn",
        "outputId": "1a67f072-5010-49f1-fe92-4e6208f5cd9b"
      },
      "execution_count": 26,
      "outputs": [
        {
          "output_type": "stream",
          "name": "stdout",
          "text": [
            "+-------+----+---+\n",
            "|seat_id|free|grp|\n",
            "+-------+----+---+\n",
            "|      1|   1|  0|\n",
            "|      3|   1|  1|\n",
            "|      4|   1|  1|\n",
            "|      5|   1|  1|\n",
            "|      7|   1|  2|\n",
            "|      8|   1|  2|\n",
            "|     10|   1|  3|\n",
            "|     12|   1|  4|\n",
            "|     14|   1|  5|\n",
            "|     15|   1|  5|\n",
            "|     17|   1|  6|\n",
            "|     18|   1|  6|\n",
            "|     19|   1|  6|\n",
            "|     20|   1|  6|\n",
            "+-------+----+---+\n",
            "\n",
            "+---+-----------+\n",
            "|grp|      seats|\n",
            "+---+-----------+\n",
            "|  6|19,20,17,18|\n",
            "|  5|      15,14|\n",
            "|  1|      5,3,4|\n",
            "|  2|        7,8|\n",
            "+---+-----------+\n",
            "\n"
          ]
        }
      ]
    },
    {
      "cell_type": "markdown",
      "source": [],
      "metadata": {
        "id": "ye4Tpca-W00s"
      }
    },
    {
      "cell_type": "code",
      "source": [
        "\n",
        "\n",
        "\n",
        "\n"
      ],
      "metadata": {
        "id": "R2pKG_IPW4nq"
      },
      "execution_count": null,
      "outputs": []
    }
  ]
}