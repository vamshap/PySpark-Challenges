{
  "nbformat": 4,
  "nbformat_minor": 0,
  "metadata": {
    "colab": {
      "provenance": [],
      "authorship_tag": "ABX9TyPH77zE42XM6gaudl14c1W4",
      "include_colab_link": true
    },
    "kernelspec": {
      "name": "python3",
      "display_name": "Python 3"
    },
    "language_info": {
      "name": "python"
    }
  },
  "cells": [
    {
      "cell_type": "markdown",
      "metadata": {
        "id": "view-in-github",
        "colab_type": "text"
      },
      "source": [
        "<a href=\"https://colab.research.google.com/github/vamshap/PySpark-Challenges/blob/main/CountScoreofFreinds.ipynb\" target=\"_parent\"><img src=\"https://colab.research.google.com/assets/colab-badge.svg\" alt=\"Open In Colab\"/></a>"
      ]
    },
    {
      "cell_type": "code",
      "execution_count": 3,
      "metadata": {
        "colab": {
          "base_uri": "https://localhost:8080/"
        },
        "id": "7LW2edbXVgS-",
        "outputId": "228cd7d8-4d04-4f57-f299-04b7c8e736fa"
      },
      "outputs": [
        {
          "output_type": "stream",
          "name": "stdout",
          "text": [
            "+--------+--------+\n",
            "|PersonID|FriendID|\n",
            "+--------+--------+\n",
            "|       1|       2|\n",
            "|       1|       3|\n",
            "|       1|       4|\n",
            "|       2|       5|\n",
            "|       3|       1|\n",
            "|       4|       2|\n",
            "|       5|       3|\n",
            "+--------+--------+\n",
            "\n",
            "+--------+-----+-----+\n",
            "|PersonID| Name|Score|\n",
            "+--------+-----+-----+\n",
            "|       1|Alice|   88|\n",
            "|       2|  Bob|   11|\n",
            "|       3|Davis|   27|\n",
            "|       4| Tara|   45|\n",
            "|       5| John|   63|\n",
            "+--------+-----+-----+\n",
            "\n"
          ]
        }
      ],
      "source": [
        "from pyspark.sql import SparkSession\n",
        "from pyspark.sql.functions import col, count, sum\n",
        "\n",
        "# Create Spark session\n",
        "spark = SparkSession.builder.appName(\"FriendsScore\").getOrCreate()\n",
        "\n",
        "# Sample data for Friend table\n",
        "friend_data = [\n",
        "    (1, 2),\n",
        "    (1, 3),\n",
        "    (1, 4),\n",
        "    (2, 5),\n",
        "    (3, 1),\n",
        "    (4, 2),\n",
        "    (5, 3)\n",
        "]\n",
        "friend_columns = [\"PersonID\", \"FriendID\"]\n",
        "\n",
        "# Sample data for Person table\n",
        "person_data = [\n",
        "    (1, 'Alice', 88),\n",
        "    (2, 'Bob', 11),\n",
        "    (3, 'Davis', 27),\n",
        "    (4, 'Tara', 45),\n",
        "    (5, 'John', 63)\n",
        "]\n",
        "person_columns = [\"PersonID\", \"Name\", \"Score\"]\n",
        "\n",
        "# Create DataFrames\n",
        "friend_df = spark.createDataFrame(friend_data, friend_columns)\n",
        "person_df = spark.createDataFrame(person_data, person_columns)\n",
        "friend_df.show()\n",
        "person_df.show()\n",
        "\n",
        "\n",
        "# Step 1: PersonAndFriends - Count number of friends\n",
        "person_and_friends_df = (\n",
        "    friend_df.join(person_df, friend_df.PersonID == person_df.PersonID)\n",
        "    .groupBy(friend_df.PersonID, person_df.Name)\n",
        "    .agg(count(\"*\").alias(\"NoofFriends\"))\n",
        ")\n",
        "\n",
        "\n",
        "\n",
        "\n",
        "# Step 2: FriendScore - Sum of scores of friends\n",
        "friend_score_df = (\n",
        "    friend_df.join(person_df, friend_df.FriendID == person_df.PersonID, \"left\")\n",
        "    .groupBy(friend_df.PersonID)\n",
        "    .agg(sum(person_df.Score).alias(\"FriendScore\"))\n",
        ")\n",
        "\n",
        "# Step 3: Join and Filter\n",
        "result_df = (\n",
        "    person_and_friends_df.join(friend_score_df, \"PersonID\", \"left\")\n",
        "    .filter(col(\"FriendScore\") > 100)\n",
        "    .select(\"PersonID\", \"FriendScore\")\n",
        ")\n",
        "\n",
        "# Display result\n"
      ]
    }
  ]
}