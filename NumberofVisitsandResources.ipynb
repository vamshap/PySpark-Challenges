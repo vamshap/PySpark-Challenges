{
  "nbformat": 4,
  "nbformat_minor": 0,
  "metadata": {
    "colab": {
      "provenance": [],
      "authorship_tag": "ABX9TyNnXuT7PDSm1YIFc06z3W2E",
      "include_colab_link": true
    },
    "kernelspec": {
      "name": "python3",
      "display_name": "Python 3"
    },
    "language_info": {
      "name": "python"
    }
  },
  "cells": [
    {
      "cell_type": "markdown",
      "metadata": {
        "id": "view-in-github",
        "colab_type": "text"
      },
      "source": [
        "<a href=\"https://colab.research.google.com/github/vamshap/PySpark-Challenges/blob/main/NumberofVisitsandResources.ipynb\" target=\"_parent\"><img src=\"https://colab.research.google.com/assets/colab-badge.svg\" alt=\"Open In Colab\"/></a>"
      ]
    },
    {
      "cell_type": "code",
      "execution_count": 3,
      "metadata": {
        "colab": {
          "base_uri": "https://localhost:8080/"
        },
        "id": "UnmIicdyFMsC",
        "outputId": "7e5c1344-94a9-4db3-c4b3-3f2fff3bd80d"
      },
      "outputs": [
        {
          "output_type": "stream",
          "name": "stdout",
          "text": [
            "+----+---------+------------+-----+---------+\n",
            "|name|  address|       email|floor|resources|\n",
            "+----+---------+------------+-----+---------+\n",
            "|   A|Bangalore| A@gmail.com|    1|      CPU|\n",
            "|   A|Bangalore|A1@gmail.com|    1|      CPU|\n",
            "|   A|Bangalore|A2@gmail.com|    2|  DESKTOP|\n",
            "|   B|Bangalore| B@gmail.com|    2|  DESKTOP|\n",
            "|   B|Bangalore|B1@gmail.com|    2|  DESKTOP|\n",
            "|   B|Bangalore|B2@gmail.com|    1|  MONITOR|\n",
            "+----+---------+------------+-----+---------+\n",
            "\n",
            "+----+-----+----------+----------------+--------------------+\n",
            "|name|floor|NoofVisits|MostVisitedFloor|           Resources|\n",
            "+----+-----+----------+----------------+--------------------+\n",
            "|   B|    1|         3|               1|DESKTOP,DESKTOP,M...|\n",
            "|   B|    2|         3|               2|DESKTOP,DESKTOP,M...|\n",
            "|   A|    2|         3|               1|     CPU,CPU,DESKTOP|\n",
            "|   A|    1|         3|               2|     CPU,CPU,DESKTOP|\n",
            "+----+-----+----------+----------------+--------------------+\n",
            "\n"
          ]
        }
      ],
      "source": [
        "from pyspark.sql import SparkSession\n",
        "from pyspark.sql.functions import count, col, collect_list, concat_ws\n",
        "# Create Spark session\n",
        "spark = SparkSession.builder.appName(\"EntriesTable\").getOrCreate()\n",
        "\n",
        "# Identify the Total NumberofVisits By a Person,MostVisited Floor By a Person , Resources Used by a Person\n",
        "\n",
        "# Define schema and data for the Entries table\n",
        "data = [\n",
        "    ('A', 'Bangalore', 'A@gmail.com', 1, 'CPU'),\n",
        "    ('A', 'Bangalore', 'A1@gmail.com', 1, 'CPU'),\n",
        "    ('A', 'Bangalore', 'A2@gmail.com', 2, 'DESKTOP'),\n",
        "    ('B', 'Bangalore', 'B@gmail.com', 2, 'DESKTOP'),\n",
        "    ('B', 'Bangalore', 'B1@gmail.com', 2, 'DESKTOP'),\n",
        "    ('B', 'Bangalore', 'B2@gmail.com', 1, 'MONITOR')\n",
        "]\n",
        "\n",
        "columns = [\"name\", \"address\", \"email\", \"floor\", \"resources\"]\n",
        "\n",
        "# Create DataFrame\n",
        "entries_df = spark.createDataFrame(data, columns)\n",
        "\n",
        "# Show the DataFrame\n",
        "entries_df.show()\n",
        "\n",
        "name_and_floor_df = entries_df.select(\"name\", \"floor\").distinct()\n",
        "\n",
        "# Step 2: Number of Visits\n",
        "number_of_visits_df = entries_df.groupBy(\"name\").agg(count(\"*\").alias(\"NoofVisits\"))\n",
        "\n",
        "# Step 3: Most Visited Floor\n",
        "most_visited_floor_df = (\n",
        "    entries_df.groupBy(\"name\", \"floor\")\n",
        "    .agg(count(\"floor\").alias(\"MostVisitedFloor\"))\n",
        ")\n",
        "\n",
        "# Step 4: Machines\n",
        "machines_df = (\n",
        "    entries_df.groupBy(\"name\")\n",
        "    .agg(concat_ws(\",\", collect_list(\"resources\")).alias(\"Resources\"))\n",
        ")\n",
        "\n",
        "# Step 5: Final Join\n",
        "result_df = (\n",
        "    name_and_floor_df\n",
        "    .join(number_of_visits_df, \"name\", \"left\")\n",
        "    .join(most_visited_floor_df, [\"name\", \"floor\"], \"left\")\n",
        "    .join(machines_df, \"name\", \"left\")\n",
        ")\n",
        "\n",
        "# Display the final result\n",
        "result_df.show()\n",
        "\n"
      ]
    }
  ]
}