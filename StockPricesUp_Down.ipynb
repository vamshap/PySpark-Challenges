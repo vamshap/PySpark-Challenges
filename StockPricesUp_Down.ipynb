{
  "nbformat": 4,
  "nbformat_minor": 0,
  "metadata": {
    "colab": {
      "provenance": [],
      "authorship_tag": "ABX9TyMCahoQJgGTLrcIIDaxGU+t",
      "include_colab_link": true
    },
    "kernelspec": {
      "name": "python3",
      "display_name": "Python 3"
    },
    "language_info": {
      "name": "python"
    }
  },
  "cells": [
    {
      "cell_type": "markdown",
      "metadata": {
        "id": "view-in-github",
        "colab_type": "text"
      },
      "source": [
        "<a href=\"https://colab.research.google.com/github/vamshap/PySpark-Challenges/blob/main/StockPricesUp_Down.ipynb\" target=\"_parent\"><img src=\"https://colab.research.google.com/assets/colab-badge.svg\" alt=\"Open In Colab\"/></a>"
      ]
    },
    {
      "cell_type": "code",
      "execution_count": 15,
      "metadata": {
        "colab": {
          "base_uri": "https://localhost:8080/"
        },
        "id": "ACve-NTkaQRm",
        "outputId": "8c60cf3b-433f-45a2-b5ca-6861d998437e"
      },
      "outputs": [
        {
          "output_type": "stream",
          "name": "stdout",
          "text": [
            "+--------+----------+-----+\n",
            "|Stock_id|      date|price|\n",
            "+--------+----------+-----+\n",
            "|       A|2024-01-01|100.0|\n",
            "|       A|2024-01-02|105.0|\n",
            "|       A|2024-01-03|104.0|\n",
            "|       B|2024-01-01|200.0|\n",
            "|       B|2024-01-02|200.0|\n",
            "|       B|2024-01-03|201.0|\n",
            "+--------+----------+-----+\n",
            "\n",
            "+--------+----------+-----+-------------+\n",
            "|Stock_id|      date|price|PreviousStock|\n",
            "+--------+----------+-----+-------------+\n",
            "|       A|2024-01-01|100.0|         NULL|\n",
            "|       A|2024-01-02|105.0|        100.0|\n",
            "|       A|2024-01-03|104.0|        105.0|\n",
            "|       B|2024-01-01|200.0|         NULL|\n",
            "|       B|2024-01-02|200.0|        200.0|\n",
            "|       B|2024-01-03|201.0|        200.0|\n",
            "+--------+----------+-----+-------------+\n",
            "\n",
            "+--------+----------+-----+-------------+----------+\n",
            "|Stock_id|      date|price|PreviousStock|    status|\n",
            "+--------+----------+-----+-------------+----------+\n",
            "|       A|2024-01-01|100.0|         NULL|Base Price|\n",
            "|       A|2024-01-02|105.0|        100.0|      down|\n",
            "|       A|2024-01-03|104.0|        105.0|        Up|\n",
            "|       B|2024-01-01|200.0|         NULL|Base Price|\n",
            "|       B|2024-01-02|200.0|        200.0|Base Price|\n",
            "|       B|2024-01-03|201.0|        200.0|      down|\n",
            "+--------+----------+-----+-------------+----------+\n",
            "\n"
          ]
        }
      ],
      "source": [
        "# Import required types\n",
        "from pyspark.sql.types import StructType, StructField, StringType, DateType, FloatType\n",
        "from pyspark.sql import SparkSession\n",
        "from datetime import datetime as date_time\n",
        "from pyspark.sql.window import Window\n",
        "from pyspark.sql.functions import lag,col,when\n",
        "# Create Spark session\n",
        "spark = SparkSession.builder.appName(\"StockData\").getOrCreate()\n",
        "\n",
        "# Define the schema\n",
        "stock_schema = StructType([\n",
        "    StructField(\"Stock_id\", StringType(), False),\n",
        "    StructField(\"date\", DateType(), False),\n",
        "    StructField(\"price\", FloatType(), False)\n",
        "])\n",
        "date_time.strptime('07/10/2022 09:00:00', '%m/%d/%Y %H:%M:%S')\n",
        "# Create the data\n",
        "stock_data = [\n",
        "    (\"A\", date_time.strptime('2024-01-01','%Y-%m-%d'), 100.0),\n",
        "    (\"A\", date_time.strptime('2024-01-02','%Y-%m-%d'), 105.0),\n",
        "    (\"A\", date_time.strptime('2024-01-03','%Y-%m-%d'), 104.0),\n",
        "    (\"B\", date_time.strptime('2024-01-01','%Y-%m-%d'), 200.0),\n",
        "    (\"B\", date_time.strptime('2024-01-02','%Y-%m-%d'), 200.0),\n",
        "    (\"B\", date_time.strptime('2024-01-03','%Y-%m-%d'), 201.0)\n",
        "]\n",
        "\n",
        "# Create DataFrame\n",
        "stock_df = spark.createDataFrame(data=stock_data, schema=stock_schema)\n",
        "\n",
        "# If you want to create a temporary view to query using SQL\n",
        "stock_df.show()\n",
        "WindowSpec = Window().partitionBy(\"Stock_id\").orderBy(\"date\")\n",
        "\n",
        "stock_df = stock_df.withColumn(\"PreviousStock\",lag(\"price\").over(WindowSpec))\n",
        "stock_df.show()\n",
        "level_price = stock_df.withColumn(\"status\",(when(col(\"price\") > col(\"PreviousStock\"), \"down\" )\n",
        "                             .when(col(\"price\") < col(\"PreviousStock\") , \"Up\" ).otherwise (\"Base Price\") ))\n",
        "\n",
        "level_price.show()\n",
        "\n"
      ]
    }
  ]
}