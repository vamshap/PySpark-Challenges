{
  "nbformat": 4,
  "nbformat_minor": 0,
  "metadata": {
    "colab": {
      "provenance": [],
      "authorship_tag": "ABX9TyNQf4NVx49iKxt5Lcapovjo",
      "include_colab_link": true
    },
    "kernelspec": {
      "name": "python3",
      "display_name": "Python 3"
    },
    "language_info": {
      "name": "python"
    }
  },
  "cells": [
    {
      "cell_type": "markdown",
      "metadata": {
        "id": "view-in-github",
        "colab_type": "text"
      },
      "source": [
        "<a href=\"https://colab.research.google.com/github/vamshap/PySpark-Challenges/blob/main/EmployeeHours.ipynb\" target=\"_parent\"><img src=\"https://colab.research.google.com/assets/colab-badge.svg\" alt=\"Open In Colab\"/></a>"
      ]
    },
    {
      "cell_type": "code",
      "execution_count": 11,
      "metadata": {
        "colab": {
          "base_uri": "https://localhost:8080/"
        },
        "id": "CU_aqhrC6m9z",
        "outputId": "c47e2ec2-3798-4162-94f4-90df013d6532"
      },
      "outputs": [
        {
          "output_type": "stream",
          "name": "stdout",
          "text": [
            "+-----------+-------------+-------------------+\n",
            "|employee_id|activity_type|      activity_time|\n",
            "+-----------+-------------+-------------------+\n",
            "|          1|        login|2024-07-23 08:00:00|\n",
            "|          1|       logout|2024-07-23 12:00:00|\n",
            "|          1|        login|2024-07-23 13:00:00|\n",
            "|          1|       logout|2024-07-23 17:00:00|\n",
            "|          2|        login|2024-07-23 09:00:00|\n",
            "|          2|       logout|2024-07-23 11:00:00|\n",
            "|          2|        login|2024-07-23 12:00:00|\n",
            "|          2|       logout|2024-07-23 15:00:00|\n",
            "|          1|        login|2024-07-24 08:30:00|\n",
            "|          1|       logout|2024-07-24 12:30:00|\n",
            "|          2|        login|2024-07-24 09:30:00|\n",
            "|          2|       logout|2024-07-24 10:30:00|\n",
            "+-----------+-------------+-------------------+\n",
            "\n",
            "+-----------+-------------+-------------------+-------------------+\n",
            "|employee_id|activity_type|      activity_time|           LeadTime|\n",
            "+-----------+-------------+-------------------+-------------------+\n",
            "|          1|        login|2024-07-23 08:00:00|2024-07-23 12:00:00|\n",
            "|          1|        login|2024-07-23 13:00:00|2024-07-23 17:00:00|\n",
            "|          1|        login|2024-07-24 08:30:00|2024-07-24 12:30:00|\n",
            "|          2|        login|2024-07-23 09:00:00|2024-07-23 11:00:00|\n",
            "|          2|        login|2024-07-23 12:00:00|2024-07-23 15:00:00|\n",
            "|          2|        login|2024-07-24 09:30:00|2024-07-24 10:30:00|\n",
            "+-----------+-------------+-------------------+-------------------+\n",
            "\n",
            "+-----------+----------------------+-------------+\n",
            "|employee_id|to_date(activity_time)|sum(TimeDiff)|\n",
            "+-----------+----------------------+-------------+\n",
            "|          2|            2024-07-23|          5.0|\n",
            "|          2|            2024-07-24|          1.0|\n",
            "|          1|            2024-07-24|          4.0|\n",
            "|          1|            2024-07-23|          8.0|\n",
            "+-----------+----------------------+-------------+\n",
            "\n"
          ]
        }
      ],
      "source": [
        "from pyspark.sql import SparkSession\n",
        "from pyspark.sql.types import StructType, StructField, IntegerType, StringType, TimestampType\n",
        "from pyspark.sql.functions import to_date,lead,col\n",
        "from pyspark.sql.window import Window\n",
        "from datetime import datetime\n",
        "\n",
        "# find the total hours spend by an employee at desk and also in office example 1 total hours 9 hrs and at desk 8 hrs\n",
        "# Initialize Spark Session\n",
        "spark = SparkSession.builder.appName(\"SwipeTable\").getOrCreate()\n",
        "\n",
        "# Define the schema for the DataFrame\n",
        "schema = StructType([\n",
        "    StructField(\"employee_id\", IntegerType(), True),\n",
        "    StructField(\"activity_type\", StringType(), True),\n",
        "    StructField(\"activity_time\", TimestampType(), True)\n",
        "])\n",
        "\n",
        "# Data to insert into the DataFrame\n",
        "data = [\n",
        "    (1, 'login', datetime.strptime('2024-07-23 08:00:00', '%Y-%m-%d %H:%M:%S')),\n",
        "    (1, 'logout', datetime.strptime('2024-07-23 12:00:00', '%Y-%m-%d %H:%M:%S')),\n",
        "    (1, 'login', datetime.strptime('2024-07-23 13:00:00', '%Y-%m-%d %H:%M:%S')),\n",
        "    (1, 'logout', datetime.strptime('2024-07-23 17:00:00', '%Y-%m-%d %H:%M:%S')),\n",
        "    (2, 'login', datetime.strptime('2024-07-23 09:00:00', '%Y-%m-%d %H:%M:%S')),\n",
        "    (2, 'logout', datetime.strptime('2024-07-23 11:00:00', '%Y-%m-%d %H:%M:%S')),\n",
        "    (2, 'login', datetime.strptime('2024-07-23 12:00:00', '%Y-%m-%d %H:%M:%S')),\n",
        "    (2, 'logout', datetime.strptime('2024-07-23 15:00:00', '%Y-%m-%d %H:%M:%S')),\n",
        "    (1, 'login', datetime.strptime('2024-07-24 08:30:00', '%Y-%m-%d %H:%M:%S')),\n",
        "    (1, 'logout', datetime.strptime('2024-07-24 12:30:00', '%Y-%m-%d %H:%M:%S')),\n",
        "    (2, 'login', datetime.strptime('2024-07-24 09:30:00', '%Y-%m-%d %H:%M:%S')),\n",
        "    (2, 'logout', datetime.strptime('2024-07-24 10:30:00', '%Y-%m-%d %H:%M:%S'))\n",
        "]\n",
        "\n",
        "# Create the DataFrame\n",
        "swipe_df = spark.createDataFrame(data, schema=schema)\n",
        "\n",
        "# Show the DataFrame\n",
        "swipe_df.show()\n",
        "\n",
        "WindowSpec = Window.partitionBy(\"employee_id\",to_date(\"activity_time\")).orderBy(\"activity_time\")\n",
        "\n",
        "lead_df = swipe_df.withColumn(\"LeadTime\",lead(\"activity_time\").over(WindowSpec)).filter(col(\"activity_type\")!= \"logout\")\n",
        "\n",
        "lead_df.show()\n",
        "\n",
        "lead_df = lead_df.withColumn(\"TimeDiff\",(lead_df.LeadTime.cast(IntegerType()) - lead_df.activity_time.cast(IntegerType()))/3600)\n",
        "\n",
        "Login_df = lead_df.groupBy(\"employee_id\",to_date(\"activity_time\")).agg({\"TimeDiff\":\"sum\"})\n",
        "Login_df.show()\n"
      ]
    }
  ]
}