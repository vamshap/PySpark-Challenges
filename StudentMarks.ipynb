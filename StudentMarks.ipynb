{
  "nbformat": 4,
  "nbformat_minor": 0,
  "metadata": {
    "colab": {
      "provenance": [],
      "authorship_tag": "ABX9TyOUO7NWjJiFFFakR5WY0MWD",
      "include_colab_link": true
    },
    "kernelspec": {
      "name": "python3",
      "display_name": "Python 3"
    },
    "language_info": {
      "name": "python"
    }
  },
  "cells": [
    {
      "cell_type": "markdown",
      "metadata": {
        "id": "view-in-github",
        "colab_type": "text"
      },
      "source": [
        "<a href=\"https://colab.research.google.com/github/vamshap/PySpark-Challenges/blob/main/StudentMarks.ipynb\" target=\"_parent\"><img src=\"https://colab.research.google.com/assets/colab-badge.svg\" alt=\"Open In Colab\"/></a>"
      ]
    },
    {
      "cell_type": "code",
      "execution_count": 10,
      "metadata": {
        "colab": {
          "base_uri": "https://localhost:8080/"
        },
        "id": "3ckK2ZvDZHi_",
        "outputId": "cf2cdd45-08cd-4ee3-bdb4-ba2fafd2ce04"
      },
      "outputs": [
        {
          "output_type": "stream",
          "name": "stdout",
          "text": [
            "+-----+---+-----+\n",
            "|sname|sid|marks|\n",
            "+-----+---+-----+\n",
            "|    A|  X|   75|\n",
            "|    A|  Y|   75|\n",
            "|    A|  Z|   80|\n",
            "|    B|  X|   90|\n",
            "|    B|  Y|   91|\n",
            "|    B|  Z|   75|\n",
            "+-----+---+-----+\n",
            "\n",
            "+-----+----------+\n",
            "|sname|sum(marks)|\n",
            "+-----+----------+\n",
            "|    A|       155|\n",
            "|    B|       181|\n",
            "+-----+----------+\n",
            "\n"
          ]
        }
      ],
      "source": [
        "from pyspark.sql import SparkSession\n",
        "from pyspark.sql.types import StructType, StructField, StringType, IntegerType\n",
        "from pyspark.sql.functions import sum,row_number,col\n",
        "from pyspark.sql.window import Window\n",
        "#write a code to get the sum of top 2 subject marks for every student\n",
        "# Initialize Spark Session\n",
        "spark = SparkSession.builder.appName(\"StudentsTable\").getOrCreate()\n",
        "\n",
        "# Define the schema for the DataFrame\n",
        "schema = StructType([\n",
        "    StructField(\"sname\", StringType(), True),\n",
        "    StructField(\"sid\", StringType(), True),\n",
        "    StructField(\"marks\", IntegerType(), True)\n",
        "])\n",
        "\n",
        "# Data to insert into the DataFrame\n",
        "data = [\n",
        "    (\"A\", \"X\", 75),\n",
        "    (\"A\", \"Y\", 75),\n",
        "    (\"A\", \"Z\", 80),\n",
        "    (\"B\", \"X\", 90),\n",
        "    (\"B\", \"Y\", 91),\n",
        "    (\"B\", \"Z\", 75)\n",
        "]\n",
        "\n",
        "# Create the DataFrame\n",
        "students_df = spark.createDataFrame(data, schema=schema)\n",
        "\n",
        "# Show the DataFrame\n",
        "students_df.show()\n",
        "Window_Spec = Window.partitionBy(students_df[\"sname\"]).orderBy(students_df[\"marks\"].desc())\n",
        "students_df1 = students_df.withColumn(\"lrow\",row_number().over(Window_Spec))\n",
        "\n",
        "student_marks = students_df1.filter(col(\"lrow\") <=2)\n",
        "student_marks.groupBy(\"sname\").agg(sum(\"marks\")).show()\n",
        "\n",
        "\n",
        "\n",
        "\n",
        "\n",
        "\n",
        "\n",
        "\n"
      ]
    }
  ]
}