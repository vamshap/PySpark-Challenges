{
  "nbformat": 4,
  "nbformat_minor": 0,
  "metadata": {
    "colab": {
      "provenance": [],
      "authorship_tag": "ABX9TyP1tldrKnyY4XSvH12a/uR2",
      "include_colab_link": true
    },
    "kernelspec": {
      "name": "python3",
      "display_name": "Python 3"
    },
    "language_info": {
      "name": "python"
    }
  },
  "cells": [
    {
      "cell_type": "markdown",
      "metadata": {
        "id": "view-in-github",
        "colab_type": "text"
      },
      "source": [
        "<a href=\"https://colab.research.google.com/github/vamshap/PySpark-Challenges/blob/main/City.ipynb\" target=\"_parent\"><img src=\"https://colab.research.google.com/assets/colab-badge.svg\" alt=\"Open In Colab\"/></a>"
      ]
    },
    {
      "cell_type": "code",
      "execution_count": null,
      "metadata": {
        "colab": {
          "base_uri": "https://localhost:8080/"
        },
        "id": "EFOEtR045QcB",
        "outputId": "6f409744-2082-4458-dffd-d77a53022f34"
      },
      "outputs": [
        {
          "output_type": "stream",
          "name": "stdout",
          "text": [
            "+-----------+---------+----------+\n",
            "|      state|     city|population|\n",
            "+-----------+---------+----------+\n",
            "|    haryana|   ambala|       100|\n",
            "|    haryana|  panipat|       200|\n",
            "|    haryana|  gurgaon|       300|\n",
            "|     punjab| amritsar|       150|\n",
            "|     punjab| ludhiana|       400|\n",
            "|     punjab|jalandhar|       250|\n",
            "|maharashtra|   mumbai|      1000|\n",
            "|maharashtra|     pune|       600|\n",
            "|maharashtra|   nagpur|       300|\n",
            "|  karnataka|bangalore|       900|\n",
            "|  karnataka|   mysore|       400|\n",
            "|  karnataka|mangalore|       200|\n",
            "+-----------+---------+----------+\n",
            "\n"
          ]
        }
      ],
      "source": [
        "from pyspark.sql import SparkSession\n",
        "\n",
        "# Initialize Spark session\n",
        "spark = SparkSession.builder.appName(\"CityPopulation\").getOrCreate()\n",
        "\n",
        "# Define the data as a list of tuples\n",
        "data = [\n",
        "    ('haryana', 'ambala', 100),\n",
        "    ('haryana', 'panipat', 200),\n",
        "    ('haryana', 'gurgaon', 300),\n",
        "    ('punjab', 'amritsar', 150),\n",
        "    ('punjab', 'ludhiana', 400),\n",
        "    ('punjab', 'jalandhar', 250),\n",
        "    ('maharashtra', 'mumbai', 1000),\n",
        "    ('maharashtra', 'pune', 600),\n",
        "    ('maharashtra', 'nagpur', 300),\n",
        "    ('karnataka', 'bangalore', 900),\n",
        "    ('karnataka', 'mysore', 400),\n",
        "    ('karnataka', 'mangalore', 200),\n",
        "]\n",
        "\n",
        "# Define schema\n",
        "columns = [\"state\", \"city\", \"population\"]\n",
        "\n",
        "# Create DataFrame\n",
        "city_population_df = spark.createDataFrame(data, schema=columns)\n",
        "\n",
        "# Show the DataFrame\n",
        "city_population_df.show()"
      ]
    },
    {
      "cell_type": "code",
      "source": [
        "from pyspark.sql.functions import max,min,aggregate as agg,col\n",
        "\n",
        "\n",
        "city_df = city_population_df.groupBy(\"state\").agg(max(\"population\").alias(\"more\"),min(\"population\").alias(\"less\"))\n",
        "\n",
        "city_df.show()\n",
        "city_population_df.show()\n",
        "\n",
        "#dd = city_df.join(city_population_df,(city_population_df[\"state\"] == city_df[\"state\"]) & (city_population_df[\"population\"] == city_df[\"less\"]) ,how = \"inner\").select(city_df[\"state\"],city_df[\"more\"],city_df[\"less\"],city_population_df[\"city\"].alias(\"less_City\"))\n",
        "dd = city_df.alias(\"city\").join(city_population_df.alias(\"population\"),(col(\"population.state\") == col(\"city.state\")) & (col(\"population.population\") == col(\"city.less\")) ,how = \"inner\").select(col(\"city.state\"),col(\"city.more\"),col(\"city.less\"),col(\"population.city\").alias(\"less_City\"))\n",
        "\n",
        "\n",
        "dd.show()\n",
        "\n",
        "#lessCity_df = dd.select(\"state\",\"less\",\"more\",dd[\"city\"].alias(\"lessCity\"))\n",
        "\n",
        "result_df = dd.alias(\"less_df\").join(city_population_df.alias(\"more_df\"),(col(\"less_df.state\") == col(\"more_df.state\")) & (col(\"more_df.population\") == col(\"less_df.more\")) ,how = \"inner\").select(col(\"less_df.state\"),col(\"less_df.less\"),col(\"less_df.more\"),col(\"more_df.city\").alias(\"more_city\"),col(\"less_df.less_city\"))\n",
        "\n",
        "\n",
        "#result_df = lesCity_df.join(city_population_df,(city_population_df[\"state\"] == city_df[\"state\"]) & (city_population_df[\"population\"] == city_df[\"more\"]) ,how = \"inner\").select(dd[\"state\"],dd[\"less_city\"],dd[\"less\"],dd[\"more\"],city_population_df[\"city\"])\n",
        "\n",
        "result_df.show()\n",
        "\n",
        "\n",
        "\n"
      ],
      "metadata": {
        "colab": {
          "base_uri": "https://localhost:8080/"
        },
        "id": "OaBnTs1W5z6q",
        "outputId": "b9688b3b-d794-42b3-8241-0567e5cadfa5"
      },
      "execution_count": null,
      "outputs": [
        {
          "output_type": "stream",
          "name": "stdout",
          "text": [
            "+-----------+----+----+\n",
            "|      state|more|less|\n",
            "+-----------+----+----+\n",
            "|    haryana| 300| 100|\n",
            "|     punjab| 400| 150|\n",
            "|maharashtra|1000| 300|\n",
            "|  karnataka| 900| 200|\n",
            "+-----------+----+----+\n",
            "\n",
            "+-----------+---------+----------+\n",
            "|      state|     city|population|\n",
            "+-----------+---------+----------+\n",
            "|    haryana|   ambala|       100|\n",
            "|    haryana|  panipat|       200|\n",
            "|    haryana|  gurgaon|       300|\n",
            "|     punjab| amritsar|       150|\n",
            "|     punjab| ludhiana|       400|\n",
            "|     punjab|jalandhar|       250|\n",
            "|maharashtra|   mumbai|      1000|\n",
            "|maharashtra|     pune|       600|\n",
            "|maharashtra|   nagpur|       300|\n",
            "|  karnataka|bangalore|       900|\n",
            "|  karnataka|   mysore|       400|\n",
            "|  karnataka|mangalore|       200|\n",
            "+-----------+---------+----------+\n",
            "\n",
            "+-----------+----+----+---------+\n",
            "|      state|more|less|less_City|\n",
            "+-----------+----+----+---------+\n",
            "|    haryana| 300| 100|   ambala|\n",
            "|     punjab| 400| 150| amritsar|\n",
            "|maharashtra|1000| 300|   nagpur|\n",
            "|  karnataka| 900| 200|mangalore|\n",
            "+-----------+----+----+---------+\n",
            "\n",
            "+-----------+----+----+---------+---------+\n",
            "|      state|less|more|more_city|less_city|\n",
            "+-----------+----+----+---------+---------+\n",
            "|    haryana| 100| 300|  gurgaon|   ambala|\n",
            "|  karnataka| 200| 900|bangalore|mangalore|\n",
            "|maharashtra| 300|1000|   mumbai|   nagpur|\n",
            "|     punjab| 150| 400| ludhiana| amritsar|\n",
            "+-----------+----+----+---------+---------+\n",
            "\n"
          ]
        }
      ]
    }
  ]
}