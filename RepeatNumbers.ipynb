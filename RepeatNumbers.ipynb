{
  "nbformat": 4,
  "nbformat_minor": 0,
  "metadata": {
    "colab": {
      "provenance": [],
      "authorship_tag": "ABX9TyO4rvnRXp3jSUxcvfUUetXk",
      "include_colab_link": true
    },
    "kernelspec": {
      "name": "python3",
      "display_name": "Python 3"
    },
    "language_info": {
      "name": "python"
    }
  },
  "cells": [
    {
      "cell_type": "markdown",
      "metadata": {
        "id": "view-in-github",
        "colab_type": "text"
      },
      "source": [
        "<a href=\"https://colab.research.google.com/github/vamshap/PySpark-Challenges/blob/main/RepeatNumbers.ipynb\" target=\"_parent\"><img src=\"https://colab.research.google.com/assets/colab-badge.svg\" alt=\"Open In Colab\"/></a>"
      ]
    },
    {
      "cell_type": "code",
      "execution_count": null,
      "metadata": {
        "colab": {
          "base_uri": "https://localhost:8080/"
        },
        "id": "9Gb-JbNXLrMe",
        "outputId": "ea48c27b-3bbd-4876-e6ce-11144d98bc55"
      },
      "outputs": [
        {
          "output_type": "stream",
          "name": "stdout",
          "text": [
            "Requirement already satisfied: pyspark in /usr/local/lib/python3.10/dist-packages (3.5.4)\n",
            "Requirement already satisfied: py4j==0.10.9.7 in /usr/local/lib/python3.10/dist-packages (from pyspark) (0.10.9.7)\n"
          ]
        }
      ],
      "source": [
        "!pip install pyspark"
      ]
    },
    {
      "cell_type": "code",
      "source": [
        "from pyspark.sql import SparkSession\n",
        "#print the n number n number of times ex 1 as 1 and 2 as 2 2 , 3 as 3 3 3 , 5 as 5 5 5 5 5\n",
        "# Initialize Spark Session\n",
        "spark = SparkSession.builder.appName(\"Print the Numbers with N number of times\").getOrCreate()\n",
        "\n",
        "# Create a DataFrame with initial values\n",
        "data = [(1,), (2,), (3,), (4,), (5,)]\n",
        "columns = [\"number\"]\n",
        "numbers_df = spark.createDataFrame(data, columns)\n",
        "\n",
        "# Add a new row to the DataFrame\n",
        "new_data = [(9,)]\n",
        "new_row_df = spark.createDataFrame(new_data, columns)\n",
        "\n",
        "# Union the DataFrames to insert the new value\n",
        "numbers_df = numbers_df.union(new_row_df)\n",
        "\n",
        "# Show the resulting DataFrame\n",
        "numbers_df.show()\n",
        "\n",
        "for  row in numbers_df.collect():\n",
        "  n = row[\"number\"]\n",
        "  for i in range(n):\n",
        "    print(n)\n",
        "    i = i + 1\n",
        "\n",
        "\n",
        "\n",
        "\n"
      ],
      "metadata": {
        "colab": {
          "base_uri": "https://localhost:8080/"
        },
        "id": "y0zklRsoL1rS",
        "outputId": "46d5313e-31a2-4606-a547-5f4781622148"
      },
      "execution_count": null,
      "outputs": [
        {
          "output_type": "stream",
          "name": "stdout",
          "text": [
            "+------+\n",
            "|number|\n",
            "+------+\n",
            "|     1|\n",
            "|     2|\n",
            "|     3|\n",
            "|     4|\n",
            "|     5|\n",
            "|     9|\n",
            "+------+\n",
            "\n",
            "1\n",
            "2\n",
            "2\n",
            "3\n",
            "3\n",
            "3\n",
            "4\n",
            "4\n",
            "4\n",
            "4\n",
            "5\n",
            "5\n",
            "5\n",
            "5\n",
            "5\n",
            "9\n",
            "9\n",
            "9\n",
            "9\n",
            "9\n",
            "9\n",
            "9\n",
            "9\n",
            "9\n"
          ]
        }
      ]
    }
  ]
}