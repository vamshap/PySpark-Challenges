{
  "nbformat": 4,
  "nbformat_minor": 0,
  "metadata": {
    "colab": {
      "provenance": [],
      "authorship_tag": "ABX9TyMgfiYqgsULhd8gWQCQ0EKz",
      "include_colab_link": true
    },
    "kernelspec": {
      "name": "python3",
      "display_name": "Python 3"
    },
    "language_info": {
      "name": "python"
    }
  },
  "cells": [
    {
      "cell_type": "markdown",
      "metadata": {
        "id": "view-in-github",
        "colab_type": "text"
      },
      "source": [
        "<a href=\"https://colab.research.google.com/github/vamshap/PySpark-Challenges/blob/main/EmployeePrimaryDepartment.ipynb\" target=\"_parent\"><img src=\"https://colab.research.google.com/assets/colab-badge.svg\" alt=\"Open In Colab\"/></a>"
      ]
    },
    {
      "cell_type": "code",
      "execution_count": null,
      "metadata": {
        "id": "3Emp43MIT-R5"
      },
      "outputs": [],
      "source": [
        "from pyspark.sql import SparkSession\n",
        "from pyspark.sql.functions import col, when, count\n",
        "\n",
        "#write a code to identify the primary dept of a employee , if the employee has more than one dept than then Primary Flag would he his dept and if there is only one dept and flag is N then it would be primary dep\n",
        "# Create Spark session\n",
        "spark = SparkSession.builder.appName(\"EmployeeFlag\").getOrCreate()\n",
        "\n",
        "# Define the schema and data\n",
        "employee_data = [\n",
        "    (1, 1, 'N'),\n",
        "    (2, 1, 'Y'),\n",
        "    (2, 2, 'N'),\n",
        "    (3, 3, 'N'),\n",
        "    (4, 2, 'N'),\n",
        "    (4, 3, 'Y'),\n",
        "    (4, 4, 'N')\n",
        "]\n",
        "\n",
        "employee_columns = [\"Employee_ID\", \"Department_ID\", \"Primary_Flag\"]\n",
        "\n",
        "# Create DataFrame\n",
        "employee_df = spark.createDataFrame(employee_data, schema=employee_columns)\n",
        "\n",
        "# Step 1: Calculate the count of records per Employee_ID\n",
        "c_df = employee_df.groupBy(\"Employee_ID\").agg(count(\"*\").alias(\"CNT\"))\n",
        "\n",
        "# Step 2: Join with original DataFrame and compute the flag\n",
        "fla_df = employee_df.join(c_df, \"Employee_ID\").withColumn(\n",
        "    \"FLAG\",\n",
        "    when((col(\"CNT\") > 1) & (col(\"Primary_Flag\") == 'Y'), 'YY')\n",
        "    .when((col(\"CNT\") == 1) & (col(\"Primary_Flag\") == 'N'), 'YN')\n",
        "    .otherwise('N')\n",
        ")\n",
        "\n",
        "# Step 3: Filter for rows with FLAG 'YY' or 'YN'\n",
        "result_df = fla_df.filter((col(\"FLAG\") == 'YY') | (col(\"FLAG\") == 'YN'))\n",
        "\n",
        "# Show the result\n",
        "result_df.show()"
      ]
    }
  ]
}