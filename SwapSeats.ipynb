{
  "nbformat": 4,
  "nbformat_minor": 0,
  "metadata": {
    "colab": {
      "provenance": [],
      "authorship_tag": "ABX9TyMMTFTaInHo61H0vxVI3lnb",
      "include_colab_link": true
    },
    "kernelspec": {
      "name": "python3",
      "display_name": "Python 3"
    },
    "language_info": {
      "name": "python"
    }
  },
  "cells": [
    {
      "cell_type": "markdown",
      "metadata": {
        "id": "view-in-github",
        "colab_type": "text"
      },
      "source": [
        "<a href=\"https://colab.research.google.com/github/vamshap/PySpark-Challenges/blob/main/SwapSeats.ipynb\" target=\"_parent\"><img src=\"https://colab.research.google.com/assets/colab-badge.svg\" alt=\"Open In Colab\"/></a>"
      ]
    },
    {
      "cell_type": "code",
      "execution_count": 12,
      "metadata": {
        "colab": {
          "base_uri": "https://localhost:8080/"
        },
        "id": "PYLuYXC_71n8",
        "outputId": "aa72ceb9-1838-46a0-b6f5-eb2324ff9ace"
      },
      "outputs": [
        {
          "output_type": "stream",
          "name": "stdout",
          "text": [
            "+---+-------+-------+---------------+\n",
            "| id|student|oddEven|ExchangeSeat_ID|\n",
            "+---+-------+-------+---------------+\n",
            "|  1|   Amit|    odd|              2|\n",
            "|  2|  Deepa|   even|              1|\n",
            "|  3|  Rohit|    odd|              4|\n",
            "|  4| Anjali|   even|              3|\n",
            "|  5|   Neha|    odd|              6|\n",
            "|  6| Sanjay|   even|              5|\n",
            "|  7|  Priya|    odd|              7|\n",
            "+---+-------+-------+---------------+\n",
            "\n"
          ]
        }
      ],
      "source": [
        "from pyspark.sql import SparkSession\n",
        "from pyspark.sql.types import StructType, StructField, IntegerType, StringType\n",
        "from pyspark.sql.functions import when, col, lag, lead\n",
        "from pyspark.sql.window import Window\n",
        "\n",
        "# write a code to swap seats consecutively if the total seats is odd then last seat would be the same seat\n",
        "# Create Spark session\n",
        "spark = SparkSession.builder.appName(\"SeatsTable\").getOrCreate()\n",
        "\n",
        "# Define the schema for the DataFrame\n",
        "schema = StructType([\n",
        "    StructField(\"id\", IntegerType(), True),\n",
        "    StructField(\"student\", StringType(), True)\n",
        "])\n",
        "\n",
        "# Create the data\n",
        "seats_data = [\n",
        "    (1, 'Amit'),\n",
        "    (2, 'Deepa'),\n",
        "    (3, 'Rohit'),\n",
        "    (4, 'Anjali'),\n",
        "    (5, 'Neha'),\n",
        "    (6, 'Sanjay'),\n",
        "    (7, 'Priya')\n",
        "]\n",
        "\n",
        "# Create DataFrame\n",
        "seats_df = spark.createDataFrame(data=seats_data, schema=schema)\n",
        "\n",
        "# Add a column to identify odd and even IDs\n",
        "seat_evenodd_df = seats_df.withColumn(\"oddEven\", when(col(\"id\") % 2 == 0, \"even\").otherwise(\"odd\"))\n",
        "\n",
        "# Define Window specifications\n",
        "LagSpec = Window.orderBy(\"id\")\n",
        "LeadSpec = Window.orderBy(\"id\")\n",
        "\n",
        "# Add a column to swap seat IDs\n",
        "sf = seat_evenodd_df.withColumn(\n",
        "    \"ExchangeSeat_ID\",\n",
        "    when(col(\"oddEven\") == \"even\", lag(\"id\").over(LagSpec))\n",
        "    .when((col(\"oddEven\") == \"odd\") & (lead(\"id\").over(LeadSpec).isNull()), col(\"id\"))\n",
        "    .otherwise(lead(\"id\").over(LeadSpec))\n",
        ")\n",
        "\n",
        "sf.show()"
      ]
    },
    {
      "cell_type": "code",
      "source": [],
      "metadata": {
        "id": "eTirxvr_-95C"
      },
      "execution_count": null,
      "outputs": []
    }
  ]
}