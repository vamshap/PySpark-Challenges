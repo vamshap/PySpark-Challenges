{
  "nbformat": 4,
  "nbformat_minor": 0,
  "metadata": {
    "colab": {
      "provenance": [],
      "authorship_tag": "ABX9TyOYEQBTmvEDmc2RGiUFdT9P",
      "include_colab_link": true
    },
    "kernelspec": {
      "name": "python3",
      "display_name": "Python 3"
    },
    "language_info": {
      "name": "python"
    }
  },
  "cells": [
    {
      "cell_type": "markdown",
      "metadata": {
        "id": "view-in-github",
        "colab_type": "text"
      },
      "source": [
        "<a href=\"https://colab.research.google.com/github/vamshap/PySpark-Challenges/blob/main/TasksStatus.ipynb\" target=\"_parent\"><img src=\"https://colab.research.google.com/assets/colab-badge.svg\" alt=\"Open In Colab\"/></a>"
      ]
    },
    {
      "cell_type": "code",
      "execution_count": null,
      "metadata": {
        "colab": {
          "base_uri": "https://localhost:8080/"
        },
        "id": "b1FQJhqzO3YS",
        "outputId": "3fb28912-ac8d-4549-90ae-bfd99f839785"
      },
      "outputs": [
        {
          "output_type": "stream",
          "name": "stdout",
          "text": [
            "+----------+-------+\n",
            "|date_value|  state|\n",
            "+----------+-------+\n",
            "|2019-01-01|success|\n",
            "|2019-01-02|success|\n",
            "|2019-01-03|success|\n",
            "|2019-01-04|   fail|\n",
            "|2019-01-05|   fail|\n",
            "|2019-01-06|success|\n",
            "+----------+-------+\n",
            "\n",
            "+-------+----------+----------+\n",
            "|  state|  min_date|  max_date|\n",
            "+-------+----------+----------+\n",
            "|   fail|2019-01-04|2019-01-05|\n",
            "|success|2019-01-01|2019-01-03|\n",
            "|success|2019-01-06|2019-01-06|\n",
            "+-------+----------+----------+\n",
            "\n"
          ]
        }
      ],
      "source": [
        "from pyspark.sql import SparkSession\n",
        "from pyspark.sql.functions import col,window,row_number,date_add,min,max\n",
        "from pyspark.sql.types import StructType, StructField, StringType, DateType\n",
        "from pyspark.sql.window import Window\n",
        "from datetime import datetime\n",
        "\n",
        "\n",
        "#write a code to print the Max and Min date of a continous status of Success , Fail example 2019-01-01  \"2019-01-03\" \"Success\" and\n",
        "# \"2019-01-04\" \"2019-01-05\" \"Fail\"\n",
        "\n",
        "# Initialize Spark Session\n",
        "spark = SparkSession.builder.appName(\"CreateTasksTable\").getOrCreate()\n",
        "\n",
        "# Define the schema for the DataFrame\n",
        "schema = StructType([\n",
        "    StructField(\"date_value\", DateType(), True),\n",
        "    StructField(\"state\", StringType(), True)\n",
        "])\n",
        "\n",
        "# Data to insert into the DataFrame\n",
        "data = [\n",
        "    (datetime.strptime(\"2019-01-01\", \"%Y-%m-%d\").date(), \"success\"),\n",
        "    (datetime.strptime(\"2019-01-02\", \"%Y-%m-%d\").date(), \"success\"),\n",
        "    (datetime.strptime(\"2019-01-03\", \"%Y-%m-%d\").date(), \"success\"),\n",
        "    (datetime.strptime(\"2019-01-04\", \"%Y-%m-%d\").date(), \"fail\"),\n",
        "    (datetime.strptime(\"2019-01-05\", \"%Y-%m-%d\").date(), \"fail\"),\n",
        "    (datetime.strptime(\"2019-01-06\", \"%Y-%m-%d\").date(), \"success\")\n",
        "]\n",
        "\n",
        "# Create the DataFrame\n",
        "tasks_df = spark.createDataFrame(data, schema=schema)\n",
        "\n",
        "tasks_df.show()\n",
        "Window_Spec = Window.partitionBy(\"state\").orderBy(\"date_value\")\n",
        "\n",
        "newcol = tasks_df.withColumn(\"Grop\",date_add(col(\"date_value\"),-1*row_number().over(Window_Spec)))\n",
        "newcol.groupBy(\"state\",\"Grop\").agg(min(\"date_value\").alias(\"min_date\"),max(\"date_value\").alias(\"max_date\")).select(\"state\",\"min_date\",\"max_date\").show()\n",
        "\n",
        "\n",
        "\n",
        "\n",
        "\n",
        "\n",
        "\n",
        "\n",
        "\n"
      ]
    }
  ]
}