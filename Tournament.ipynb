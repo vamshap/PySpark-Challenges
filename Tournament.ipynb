{
  "nbformat": 4,
  "nbformat_minor": 0,
  "metadata": {
    "colab": {
      "provenance": [],
      "authorship_tag": "ABX9TyPlOMY1mWKvpoO13kUEkPRn",
      "include_colab_link": true
    },
    "kernelspec": {
      "name": "python3",
      "display_name": "Python 3"
    },
    "language_info": {
      "name": "python"
    }
  },
  "cells": [
    {
      "cell_type": "markdown",
      "metadata": {
        "id": "view-in-github",
        "colab_type": "text"
      },
      "source": [
        "<a href=\"https://colab.research.google.com/github/vamshap/PySpark-Challenges/blob/main/Tournament.ipynb\" target=\"_parent\"><img src=\"https://colab.research.google.com/assets/colab-badge.svg\" alt=\"Open In Colab\"/></a>"
      ]
    },
    {
      "cell_type": "code",
      "execution_count": 1,
      "metadata": {
        "colab": {
          "base_uri": "https://localhost:8080/"
        },
        "id": "qRT3UQwSUxEF",
        "outputId": "7d0d6786-074b-4155-a26f-f7f26c8bd167"
      },
      "outputs": [
        {
          "output_type": "stream",
          "name": "stdout",
          "text": [
            "+-----+--------------+-----------+------------+\n",
            "| Team|Matches_Played|Matches_Win|Matches_Lost|\n",
            "+-----+--------------+-----------+------------+\n",
            "|   SL|             2|          0|           2|\n",
            "|India|             2|          2|           0|\n",
            "|  Eng|             2|          1|           1|\n",
            "|   SA|             1|          0|           1|\n",
            "|  Aus|             2|          1|           1|\n",
            "+-----+--------------+-----------+------------+\n",
            "\n"
          ]
        }
      ],
      "source": [
        "from pyspark.sql import SparkSession\n",
        "from pyspark.sql.functions import col, count, lit, coalesce\n",
        "\n",
        "# write a code to show the each team how many matches played , matches won , matches lost\n",
        "# Create Spark session\n",
        "spark = SparkSession.builder.appName(\"ICCWorldCup\").getOrCreate()\n",
        "\n",
        "# Create the data\n",
        "icc_world_cup_data = [\n",
        "    ('India', 'SL', 'India'),\n",
        "    ('SL', 'Aus', 'Aus'),\n",
        "    ('SA', 'Eng', 'Eng'),\n",
        "    ('Eng', 'NZ', 'NZ'),\n",
        "    ('Aus', 'India', 'India')\n",
        "]\n",
        "\n",
        "# Define schema\n",
        "columns = [\"Team_1\", \"Team_2\", \"Winner\"]\n",
        "\n",
        "# Create DataFrame\n",
        "icc_world_cup_df = spark.createDataFrame(icc_world_cup_data, schema=columns)\n",
        "\n",
        "# Step 1: Calculate matches as Team_1\n",
        "team_1_df = icc_world_cup_df.groupBy(\"Team_1\").agg(count(\"Team_1\").alias(\"MatT1\"))\n",
        "\n",
        "# Step 2: Calculate matches as Team_2\n",
        "team_2_df = icc_world_cup_df.groupBy(\"Team_2\").agg(count(\"Team_2\").alias(\"MatT2\"))\n",
        "\n",
        "# Step 3: Calculate wins\n",
        "win_df = icc_world_cup_df.groupBy(\"Winner\").agg(count(\"Winner\").alias(\"WinMat\"))\n",
        "\n",
        "# Step 4: Join DataFrames and calculate matches played, won, and lost\n",
        "result_df = (\n",
        "    team_1_df.join(team_2_df, team_1_df.Team_1 == team_2_df.Team_2, \"left_outer\")\n",
        "    .join(win_df, team_1_df.Team_1 == win_df.Winner, \"left_outer\")\n",
        "    .select(\n",
        "        team_1_df.Team_1.alias(\"Team\"),\n",
        "        (coalesce(team_1_df.MatT1, lit(0)) + coalesce(team_2_df.MatT2, lit(0))).alias(\"Matches_Played\"),\n",
        "        coalesce(win_df.WinMat, lit(0)).alias(\"Matches_Win\"),\n",
        "        (\n",
        "            (coalesce(team_1_df.MatT1, lit(0)) + coalesce(team_2_df.MatT2, lit(0)))\n",
        "            - coalesce(win_df.WinMat, lit(0))\n",
        "        ).alias(\"Matches_Lost\")\n",
        "    )\n",
        ")\n",
        "\n",
        "# Show the result\n",
        "result_df.show()"
      ]
    }
  ]
}